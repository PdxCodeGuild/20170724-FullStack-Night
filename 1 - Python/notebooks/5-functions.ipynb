{
 "cells": [
  {
   "cell_type": "markdown",
   "metadata": {},
   "source": [
    "# 5: Functions\n",
    "---"
   ]
  },
  {
   "cell_type": "code",
   "execution_count": 1,
   "metadata": {},
   "outputs": [
    {
     "name": "stdout",
     "output_type": "stream",
     "text": [
      "hello world!\n"
     ]
    }
   ],
   "source": [
    "def say_hello(): #this is a function definition, the name is arbitrary\n",
    "    print('hello world!') #this is the function body\n",
    "say_hello() #this is a function 'call' or 'invocation', it matches the name"
   ]
  },
  {
   "cell_type": "code",
   "execution_count": 2,
   "metadata": {},
   "outputs": [
    {
     "name": "stdout",
     "output_type": "stream",
     "text": [
      "hello world!\n",
      "hello again!\n"
     ]
    }
   ],
   "source": [
    "# functions can take 'parameters' or 'arguments', variables that are passed to the function when it's called\n",
    "# these variables are only visible within the function\n",
    "# like variable names, the parameter names are arbitrary\n",
    "def print_txt(txt): \n",
    "    print(txt)\n",
    "\n",
    "print_txt('hello world!') # when a function is called, whatever value is passed is given the parameter name within the function\n",
    "\n",
    "s = 'hello again!'\n",
    "print_txt(s) # functions allow us to isolate pieces of code that serve a specific purpose, and re-use them"
   ]
  },
  {
   "cell_type": "code",
   "execution_count": 3,
   "metadata": {},
   "outputs": [
    {
     "name": "stdout",
     "output_type": "stream",
     "text": [
      "7\n",
      "8\n",
      "hello world!\n"
     ]
    }
   ],
   "source": [
    "# a function can take multiple parameters, and 'return' a value\n",
    "def add(a, b):\n",
    "    return a + b\n",
    "x = add(5, 2) # the returned value can be stored in a variable\n",
    "y = add(x, 1)\n",
    "print(x)\n",
    "print(y)\n",
    "\n",
    "# don't forget that python is 'weakly-typed'\n",
    "s = add('hello ', 'world!')\n",
    "print(s)"
   ]
  },
  {
   "cell_type": "code",
   "execution_count": 4,
   "metadata": {},
   "outputs": [
    {
     "name": "stdout",
     "output_type": "stream",
     "text": [
      "6\n",
      "7\n"
     ]
    }
   ],
   "source": [
    "# we also can have 'default paramaters'\n",
    "# these will default to the given value if left unspecified in the call\n",
    "\n",
    "def add(a, b=1):\n",
    "    print(a + b)\n",
    "\n",
    "add(5)\n",
    "add(5,2)\n"
   ]
  },
  {
   "cell_type": "code",
   "execution_count": null,
   "metadata": {
    "collapsed": true
   },
   "outputs": [],
   "source": []
  }
 ],
 "metadata": {
  "kernelspec": {
   "display_name": "Python 3",
   "language": "python",
   "name": "python3"
  },
  "language_info": {
   "codemirror_mode": {
    "name": "ipython",
    "version": 3
   },
   "file_extension": ".py",
   "mimetype": "text/x-python",
   "name": "python",
   "nbconvert_exporter": "python",
   "pygments_lexer": "ipython3",
   "version": "3.6.1"
  }
 },
 "nbformat": 4,
 "nbformat_minor": 2
}

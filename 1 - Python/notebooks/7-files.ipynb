{
 "cells": [
  {
   "cell_type": "code",
   "execution_count": 1,
   "metadata": {},
   "outputs": [
    {
     "name": "stdout",
     "output_type": "stream",
     "text": [
      "this is one line of the file\n",
      "this is another\n",
      "below is a list of fruits\n",
      "1. Apple\n",
      "2. Banana\n",
      "3. Pear\n",
      "\n"
     ]
    }
   ],
   "source": [
    "try:\n",
    "    file = open('test.txt', 'r')\n",
    "    text = file.read()\n",
    "    print(text)\n",
    "except:\n",
    "    print('error opening file')\n",
    "finally:\n",
    "    file.close()"
   ]
  },
  {
   "cell_type": "code",
   "execution_count": 2,
   "metadata": {},
   "outputs": [
    {
     "name": "stdout",
     "output_type": "stream",
     "text": [
      "this is one line of the file\n",
      "this is another\n",
      "below is a list of fruits\n",
      "1. Apple\n",
      "2. Banana\n",
      "3. Pear\n"
     ]
    }
   ],
   "source": [
    "# 'with' handles exceptions and closes the file for you\n",
    "with open('test.txt', 'r') as file:\n",
    "    for line in file: # loop over each line\n",
    "        print(line, end='')"
   ]
  },
  {
   "cell_type": "code",
   "execution_count": 3,
   "metadata": {
    "collapsed": true
   },
   "outputs": [],
   "source": [
    "# opening with 'w' overwrites anything in there\n",
    "with open('test.txt', 'w') as file:\n",
    "    file.write('this is one line of the file\\nthis is another\\nbelow is a list of fruits\\n1. Apple\\n2. Banana\\n3. Pear\\n')"
   ]
  },
  {
   "cell_type": "code",
   "execution_count": 4,
   "metadata": {
    "collapsed": true
   },
   "outputs": [],
   "source": [
    "# opening with 'a' appends text\n",
    "with open('test.txt', 'a') as file:\n",
    "    file.write('4. Blueberry\\n')"
   ]
  },
  {
   "cell_type": "code",
   "execution_count": 5,
   "metadata": {},
   "outputs": [
    {
     "name": "stdout",
     "output_type": "stream",
     "text": [
      "this is one line of the file\n",
      "this is another\n",
      "below is a list of fruits\n",
      "1. Apple\n",
      "2. Banana\n",
      "3. Pear\n",
      "4. Blueberry\n",
      "\n"
     ]
    }
   ],
   "source": [
    "with open('test.txt', 'r') as file:\n",
    "    print(file.read())"
   ]
  },
  {
   "cell_type": "code",
   "execution_count": null,
   "metadata": {
    "collapsed": true
   },
   "outputs": [],
   "source": []
  }
 ],
 "metadata": {
  "kernelspec": {
   "display_name": "Python 3",
   "language": "python",
   "name": "python3"
  },
  "language_info": {
   "codemirror_mode": {
    "name": "ipython",
    "version": 3
   },
   "file_extension": ".py",
   "mimetype": "text/x-python",
   "name": "python",
   "nbconvert_exporter": "python",
   "pygments_lexer": "ipython3",
   "version": "3.6.1"
  }
 },
 "nbformat": 4,
 "nbformat_minor": 2
}
